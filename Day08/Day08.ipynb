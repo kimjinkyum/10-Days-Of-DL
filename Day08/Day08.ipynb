{
 "cells": [
  {
   "cell_type": "code",
   "execution_count": 1,
   "metadata": {},
   "outputs": [],
   "source": [
    "import tensorflow as tf\n",
    "import numpy as np"
   ]
  },
  {
   "cell_type": "code",
   "execution_count": 35,
   "metadata": {},
   "outputs": [
    {
     "name": "stdout",
     "output_type": "stream",
     "text": [
      "4\n",
      "(1, 2, 1, 4)\n",
      "3\n",
      "(2, 2, 4)\n"
     ]
    }
   ],
   "source": [
    "#make constant\n",
    "\n",
    "t = tf.constant([[[[9, 10, 11, 12]],\n",
    "                   [[13, 14, 15, 16]]]])\n",
    "\n",
    "t1=tf.constant([[[1, 2, 3, 4], [5, 6, 7, 8]],\n",
    "              [[17, 18, 19, 20], [21, 22, 23, 24]]])\n",
    "\n",
    "\n",
    "print(t.ndim)\n",
    "print(t.shape)\n",
    "\n",
    "print(t1.ndim)\n",
    "print(t1.shape)\n",
    "\n"
   ]
  },
  {
   "cell_type": "code",
   "execution_count": 29,
   "metadata": {},
   "outputs": [
    {
     "name": "stdout",
     "output_type": "stream",
     "text": [
      "tf.Tensor(\n",
      "[[18 20 22 24]\n",
      " [26 28 30 32]], shape=(2, 4), dtype=int32)\n",
      "tf.Tensor(\n",
      "[[ 6  8 10 12]\n",
      " [38 40 42 44]], shape=(2, 4), dtype=int32)\n",
      "tf.Tensor(\n",
      "[[10 26]\n",
      " [74 90]], shape=(2, 2), dtype=int32)\n"
     ]
    }
   ],
   "source": [
    "#reduce sum\n",
    "print(tf.reduce_sum(t1,axis=0))\n",
    "\n",
    "print(tf.reduce_sum(t1,axis=1))\n",
    "\n",
    "print(tf.reduce_sum(t1,axis=2))"
   ]
  },
  {
   "cell_type": "code",
   "execution_count": 31,
   "metadata": {},
   "outputs": [
    {
     "name": "stdout",
     "output_type": "stream",
     "text": [
      "tf.Tensor([13 16], shape=(2,), dtype=int32)\n"
     ]
    }
   ],
   "source": [
    "#broadcasting\n",
    "m1=tf.constant([3,6])\n",
    "m2=tf.constant([10])\n",
    "print(m1+m2)"
   ]
  },
  {
   "cell_type": "code",
   "execution_count": 42,
   "metadata": {},
   "outputs": [
    {
     "name": "stdout",
     "output_type": "stream",
     "text": [
      "(1, 2, 1, 4)\n",
      "(2, 4)\n",
      "(2, 1, 4)\n",
      "(1, 2, 4)\n"
     ]
    }
   ],
   "source": [
    "#squeeze\n",
    "print(t.shape)\n",
    "print(tf.squeeze(t).shape)\n",
    "print(tf.squeeze(t,axis=0).shape)\n",
    "#print(tf.squeeze(t,axis=1).shape) ##ERROR\n",
    "print(tf.squeeze(t,axis=2).shape)"
   ]
  },
  {
   "cell_type": "code",
   "execution_count": 61,
   "metadata": {},
   "outputs": [
    {
     "name": "stdout",
     "output_type": "stream",
     "text": [
      "(1, 2, 1, 4)\n",
      "(1, 1, 2, 1, 4)\n",
      "(1, 2, 1, 1, 4)\n",
      "(1, 2, 1, 4, 1)\n"
     ]
    }
   ],
   "source": [
    "#expand\n",
    "print(t.shape)\n",
    "print(tf.expand_dims(t,[1]).shape)\n",
    "print(tf.expand_dims(t,[3]).shape)\n",
    "print(tf.expand_dims(t,[4]).shape)\n",
    "#print(tf.expand_dims(t,[5]).shape) #Error!"
   ]
  },
  {
   "cell_type": "code",
   "execution_count": 63,
   "metadata": {},
   "outputs": [
    {
     "data": {
      "text/plain": [
       "<tf.Tensor: id=143, shape=(2, 2, 4), dtype=float32, numpy=\n",
       "array([[[ 1.,  2.,  3.,  4.],\n",
       "        [ 5.,  6.,  7.,  8.]],\n",
       "\n",
       "       [[17., 18., 19., 20.],\n",
       "        [21., 22., 23., 24.]]], dtype=float32)>"
      ]
     },
     "execution_count": 63,
     "metadata": {},
     "output_type": "execute_result"
    }
   ],
   "source": [
    "tf.cast(t1 , tf.float32)"
   ]
  }
 ],
 "metadata": {
  "kernelspec": {
   "display_name": "Python 3",
   "language": "python",
   "name": "python3"
  },
  "language_info": {
   "codemirror_mode": {
    "name": "ipython",
    "version": 3
   },
   "file_extension": ".py",
   "mimetype": "text/x-python",
   "name": "python",
   "nbconvert_exporter": "python",
   "pygments_lexer": "ipython3",
   "version": "3.7.4"
  }
 },
 "nbformat": 4,
 "nbformat_minor": 2
}
